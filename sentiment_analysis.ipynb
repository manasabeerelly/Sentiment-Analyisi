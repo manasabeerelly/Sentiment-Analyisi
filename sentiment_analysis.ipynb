{
  "nbformat": 4,
  "nbformat_minor": 0,
  "metadata": {
    "colab": {
      "name": "sentiment analysis ",
      "provenance": []
    },
    "kernelspec": {
      "name": "python3",
      "display_name": "Python 3"
    },
    "language_info": {
      "name": "python"
    }
  },
  "cells": [
    {
      "cell_type": "code",
      "execution_count": 5,
      "metadata": {
        "id": "rr3fgX21ryTP"
      },
      "outputs": [],
      "source": [
        "# importing the libraries\n",
        "from bs4 import BeautifulSoup\n",
        "import requests\n",
        "import pandas as pd\n",
        "\n",
        "\n",
        "\n",
        "headers = {\n",
        "    'User-Agent': 'Mozilla/5.0 (Macintosh; Intel Mac OS X 10.12; rv:55.0) Gecko/20100101 Firefox/55.0',\n",
        "}\n",
        "\n",
        "\n",
        "URL = \"https://www.britannica.com/animal/cat\"\n",
        "\n",
        "\n",
        "# Make a GET request to fetch the raw HTML content\n",
        "html_content = requests.get(URL,headers=headers).text\n",
        "#print(html_content )\n",
        "\n",
        "\n",
        "soup = BeautifulSoup(html_content, \"lxml\")\n",
        "  #print(soup.prettify())\n",
        "\n"
      ]
    },
    {
      "cell_type": "code",
      "source": [
        "for data in soup.find_all(\"p\"):\n",
        "    df=data.get_text()"
      ],
      "metadata": {
        "id": "g8nhE5vLr6o2"
      },
      "execution_count": 6,
      "outputs": []
    },
    {
      "cell_type": "code",
      "source": [
        "df"
      ],
      "metadata": {
        "colab": {
          "base_uri": "https://localhost:8080/",
          "height": 53
        },
        "id": "NjN7YPrqr8y3",
        "outputId": "9a4d9c83-ad4d-4b94-86e9-5fc7cb3b2e94"
      },
      "execution_count": 7,
      "outputs": [
        {
          "output_type": "execute_result",
          "data": {
            "application/vnd.google.colaboratory.intrinsic+json": {
              "type": "string"
            },
            "text/plain": [
              "'The cat is a familiar figure in nursery rhymes, stories, and proverbs. The English legend of Dick Whittington and his cat is a particular favourite. The writers Théophile Gautier and Charles Baudelaire paid it homage, and in the 20th century Rudyard Kipling, Colette, and T.S. Eliot wrote of cats, and British composer Sir Andrew Lloyd Webber created the popular stage production Cats.'"
            ]
          },
          "metadata": {},
          "execution_count": 7
        }
      ]
    },
    {
      "cell_type": "code",
      "source": [
        "# import regex\n",
        "import re\n",
        "\n",
        "# download stpwords\n",
        "import nltk\n",
        "nltk.download('stopwords')\n",
        "\n",
        "# import nltk for stopwords\n",
        "from nltk.corpus import stopwords\n",
        "stop_words = set(stopwords.words('english'))\n",
        "\n",
        "\n",
        "# input string\n",
        "string = df\n",
        "\n",
        "# convert to lower case\n",
        "lower_string = string.lower()\n",
        "\n",
        "# remove numbers\n",
        "no_number_string = re.sub(r'\\d+','',lower_string)\n",
        "\n",
        "# remove all punctuation except words and space\n",
        "no_punc_string = re.sub(r'[^\\w\\s\\.]','', no_number_string)\n",
        "\n",
        "# remove white spaces\n",
        "no_wspace_string = no_punc_string.strip()\n",
        "no_wspace_string\n",
        "\n",
        "# convert string to list of words\n",
        "lst_string = [no_wspace_string][0].split()\n",
        "print(lst_string)\n",
        "\n",
        "# remove stopwords\n",
        "no_stpwords_string=\"\"\n",
        "for i in lst_string:\n",
        "\tif not i in stop_words:\n",
        "\t\tno_stpwords_string += i+' '\n",
        "\t\t\n",
        "# removing last space\n",
        "d= no_stpwords_string[:-1]\n",
        "\n",
        "# output\n",
        "#print(d)\n"
      ],
      "metadata": {
        "colab": {
          "base_uri": "https://localhost:8080/"
        },
        "id": "3JD99ZJyr_TT",
        "outputId": "68ba91a7-6ce3-4627-f6b1-bca8c356a8ec"
      },
      "execution_count": 8,
      "outputs": [
        {
          "output_type": "stream",
          "name": "stdout",
          "text": [
            "[nltk_data] Downloading package stopwords to /root/nltk_data...\n",
            "[nltk_data]   Unzipping corpora/stopwords.zip.\n",
            "['the', 'cat', 'is', 'a', 'familiar', 'figure', 'in', 'nursery', 'rhymes', 'stories', 'and', 'proverbs.', 'the', 'english', 'legend', 'of', 'dick', 'whittington', 'and', 'his', 'cat', 'is', 'a', 'particular', 'favourite.', 'the', 'writers', 'théophile', 'gautier', 'and', 'charles', 'baudelaire', 'paid', 'it', 'homage', 'and', 'in', 'the', 'th', 'century', 'rudyard', 'kipling', 'colette', 'and', 't.s.', 'eliot', 'wrote', 'of', 'cats', 'and', 'british', 'composer', 'sir', 'andrew', 'lloyd', 'webber', 'created', 'the', 'popular', 'stage', 'production', 'cats.']\n",
            "cat familiar figure nursery rhymes stories proverbs. english legend dick whittington cat particular favourite. writers théophile gautier charles baudelaire paid homage th century rudyard kipling colette t.s. eliot wrote cats british composer sir andrew lloyd webber created popular stage production cats.\n"
          ]
        }
      ]
    },
    {
      "cell_type": "code",
      "source": [
        "d"
      ],
      "metadata": {
        "colab": {
          "base_uri": "https://localhost:8080/",
          "height": 53
        },
        "id": "S2nV3p6Tsizl",
        "outputId": "441ed059-9ee4-41d0-9fc2-60b4db20d27a"
      },
      "execution_count": 9,
      "outputs": [
        {
          "output_type": "execute_result",
          "data": {
            "application/vnd.google.colaboratory.intrinsic+json": {
              "type": "string"
            },
            "text/plain": [
              "'cat familiar figure nursery rhymes stories proverbs. english legend dick whittington cat particular favourite. writers théophile gautier charles baudelaire paid homage th century rudyard kipling colette t.s. eliot wrote cats british composer sir andrew lloyd webber created popular stage production cats.'"
            ]
          },
          "metadata": {},
          "execution_count": 9
        }
      ]
    },
    {
      "cell_type": "code",
      "source": [
        "pip install vaderSentiment\n"
      ],
      "metadata": {
        "colab": {
          "base_uri": "https://localhost:8080/"
        },
        "id": "FUjAGSvVtm9W",
        "outputId": "534d5f35-6ed0-4225-e34e-2a964d68d242"
      },
      "execution_count": 10,
      "outputs": [
        {
          "output_type": "stream",
          "name": "stdout",
          "text": [
            "Collecting vaderSentiment\n",
            "  Downloading vaderSentiment-3.3.2-py2.py3-none-any.whl (125 kB)\n",
            "\u001b[?25l\r\u001b[K     |██▋                             | 10 kB 25.3 MB/s eta 0:00:01\r\u001b[K     |█████▏                          | 20 kB 27.9 MB/s eta 0:00:01\r\u001b[K     |███████▉                        | 30 kB 17.3 MB/s eta 0:00:01\r\u001b[K     |██████████▍                     | 40 kB 15.8 MB/s eta 0:00:01\r\u001b[K     |█████████████                   | 51 kB 9.0 MB/s eta 0:00:01\r\u001b[K     |███████████████▋                | 61 kB 8.6 MB/s eta 0:00:01\r\u001b[K     |██████████████████▏             | 71 kB 8.8 MB/s eta 0:00:01\r\u001b[K     |████████████████████▉           | 81 kB 9.7 MB/s eta 0:00:01\r\u001b[K     |███████████████████████▍        | 92 kB 10.3 MB/s eta 0:00:01\r\u001b[K     |██████████████████████████      | 102 kB 8.5 MB/s eta 0:00:01\r\u001b[K     |████████████████████████████▋   | 112 kB 8.5 MB/s eta 0:00:01\r\u001b[K     |███████████████████████████████▏| 122 kB 8.5 MB/s eta 0:00:01\r\u001b[K     |████████████████████████████████| 125 kB 8.5 MB/s \n",
            "\u001b[?25hRequirement already satisfied: requests in /usr/local/lib/python3.7/dist-packages (from vaderSentiment) (2.23.0)\n",
            "Requirement already satisfied: idna<3,>=2.5 in /usr/local/lib/python3.7/dist-packages (from requests->vaderSentiment) (2.10)\n",
            "Requirement already satisfied: chardet<4,>=3.0.2 in /usr/local/lib/python3.7/dist-packages (from requests->vaderSentiment) (3.0.4)\n",
            "Requirement already satisfied: certifi>=2017.4.17 in /usr/local/lib/python3.7/dist-packages (from requests->vaderSentiment) (2021.10.8)\n",
            "Requirement already satisfied: urllib3!=1.25.0,!=1.25.1,<1.26,>=1.21.1 in /usr/local/lib/python3.7/dist-packages (from requests->vaderSentiment) (1.24.3)\n",
            "Installing collected packages: vaderSentiment\n",
            "Successfully installed vaderSentiment-3.3.2\n"
          ]
        }
      ]
    },
    {
      "cell_type": "code",
      "source": [
        "\n",
        "from vaderSentiment.vaderSentiment import SentimentIntensityAnalyzer\n",
        "def sentiment_scores(sentence):\n",
        "  obj = SentimentIntensityAnalyzer()\n",
        "  sentiment_dict = obj.polarity_scores(sentence)\n",
        "  #print(\"negative score \", sentiment_dict['neg']*100)\n",
        "  print(\"text is  \", sentiment_dict['neg']*100, \"% Negative\")\n",
        "  print(\"text is \", sentiment_dict['neu']*100, \"% Neutral\")\n",
        "  print(\"text is  \", sentiment_dict['pos']*100, \"% Positive\")\n",
        "  #print(\"positive score \", sentiment_dict['pos']*100)\n",
        "\t\n",
        "# Driver code\n",
        "if __name__ == \"__main__\" :\n",
        "\n",
        "\tsentence = d\n",
        "\n",
        "\t# function calling\n",
        "\tsentiment_scores(sentence)\n",
        "\n",
        "\t"
      ],
      "metadata": {
        "colab": {
          "base_uri": "https://localhost:8080/"
        },
        "id": "frS7e7axs6Xp",
        "outputId": "dd8df2eb-762e-44ee-c4d7-356ab4b101af"
      },
      "execution_count": 12,
      "outputs": [
        {
          "output_type": "stream",
          "name": "stdout",
          "text": [
            "text is   7.199999999999999 % Negative\n",
            "text is  82.39999999999999 % Neutral\n",
            "text is   10.4 % Positive\n"
          ]
        }
      ]
    },
    {
      "cell_type": "code",
      "source": [
        "from textblob import TextBlob\n",
        "\n",
        "TextBlob(d).sentiment\n"
      ],
      "metadata": {
        "colab": {
          "base_uri": "https://localhost:8080/"
        },
        "id": "d-1On6Iw5SDC",
        "outputId": "e2594819-85b4-4406-813a-d984fe98d4a2"
      },
      "execution_count": 23,
      "outputs": [
        {
          "output_type": "execute_result",
          "data": {
            "text/plain": [
              "Sentiment(polarity=0.22833333333333333, subjectivity=0.3466666666666667)"
            ]
          },
          "metadata": {},
          "execution_count": 23
        }
      ]
    },
    {
      "cell_type": "code",
      "source": [
        "no_words = len(d.split())\n",
        "print(\"number of words in the text =\",no_words)"
      ],
      "metadata": {
        "colab": {
          "base_uri": "https://localhost:8080/"
        },
        "id": "0PmZWf2DutkR",
        "outputId": "38aab514-51ff-4926-a60b-fd3d0bb47703"
      },
      "execution_count": 17,
      "outputs": [
        {
          "output_type": "stream",
          "name": "stdout",
          "text": [
            "number of words in the text = 41\n"
          ]
        }
      ]
    },
    {
      "cell_type": "code",
      "source": [
        "no_sentences = len(d.split('.'))\n",
        "print(\"number of sentences in text =\",no_sentences)"
      ],
      "metadata": {
        "colab": {
          "base_uri": "https://localhost:8080/"
        },
        "id": "bLKlcAKavNjH",
        "outputId": "28b82f4e-eeeb-4ba7-d7cb-848901408c5c"
      },
      "execution_count": 18,
      "outputs": [
        {
          "output_type": "stream",
          "name": "stdout",
          "text": [
            "number of sentences in text = 6\n"
          ]
        }
      ]
    },
    {
      "cell_type": "code",
      "source": [
        "average_sentence_length=no_words/no_sentences\n",
        "print(\"average sentence length =\",average_sentence_length)"
      ],
      "metadata": {
        "colab": {
          "base_uri": "https://localhost:8080/"
        },
        "id": "Hy1aUYUfvVZo",
        "outputId": "3ab4713e-5cf9-4f8c-e64a-78829b5f6684"
      },
      "execution_count": 19,
      "outputs": [
        {
          "output_type": "stream",
          "name": "stdout",
          "text": [
            "average sentence length = 6.833333333333333\n"
          ]
        }
      ]
    },
    {
      "cell_type": "code",
      "source": [
        "!pip install textstat"
      ],
      "metadata": {
        "colab": {
          "base_uri": "https://localhost:8080/"
        },
        "id": "udqoniJewKa0",
        "outputId": "f20cd476-8fec-4c2e-c46e-ef2efe8442a9"
      },
      "execution_count": 20,
      "outputs": [
        {
          "output_type": "stream",
          "name": "stdout",
          "text": [
            "Collecting textstat\n",
            "  Downloading textstat-0.7.2-py3-none-any.whl (101 kB)\n",
            "\u001b[?25l\r\u001b[K     |███▏                            | 10 kB 24.7 MB/s eta 0:00:01\r\u001b[K     |██████▍                         | 20 kB 31.0 MB/s eta 0:00:01\r\u001b[K     |█████████▋                      | 30 kB 28.8 MB/s eta 0:00:01\r\u001b[K     |████████████▉                   | 40 kB 19.9 MB/s eta 0:00:01\r\u001b[K     |████████████████                | 51 kB 10.1 MB/s eta 0:00:01\r\u001b[K     |███████████████████▎            | 61 kB 10.0 MB/s eta 0:00:01\r\u001b[K     |██████████████████████▌         | 71 kB 10.1 MB/s eta 0:00:01\r\u001b[K     |█████████████████████████▊      | 81 kB 11.1 MB/s eta 0:00:01\r\u001b[K     |█████████████████████████████   | 92 kB 11.5 MB/s eta 0:00:01\r\u001b[K     |████████████████████████████████| 101 kB 6.1 MB/s \n",
            "\u001b[?25hCollecting pyphen\n",
            "  Downloading pyphen-0.12.0-py3-none-any.whl (2.0 MB)\n",
            "\u001b[K     |████████████████████████████████| 2.0 MB 62.9 MB/s \n",
            "\u001b[?25hInstalling collected packages: pyphen, textstat\n",
            "Successfully installed pyphen-0.12.0 textstat-0.7.2\n"
          ]
        }
      ]
    },
    {
      "cell_type": "code",
      "source": [
        "import textstat"
      ],
      "metadata": {
        "id": "9l43o-IxwNBG"
      },
      "execution_count": 21,
      "outputs": []
    },
    {
      "cell_type": "code",
      "source": [
        "red=textstat.flesch_reading_ease(d)\n",
        "if red>90 and  red<=100:\n",
        "  print(\"\tText is Very Easy to read \")\n",
        "elif red>80 and  red<=89:\n",
        "  print(\"Text is Easy to read\")\n",
        "elif red>70 and  red<=79:\n",
        "  print(\"Text is Fairly Easy to read\")\n",
        "elif red>60 and  red<=69:\n",
        "  print(\"Text is Standard to read\")\n",
        "elif red>50 and  red<=59:\n",
        "  print(\"Text is Fairly Difficult to read\")\n",
        "elif red>30 and  red<=49:\n",
        "  print(\"Text is Difficult to read\")\n",
        "else:\n",
        "  print(\"Text is Very Confusing to read\")\n",
        "\n"
      ],
      "metadata": {
        "colab": {
          "base_uri": "https://localhost:8080/"
        },
        "id": "O6paYmFXvhIO",
        "outputId": "b13661b3-0f84-4989-b111-259563d02686"
      },
      "execution_count": 27,
      "outputs": [
        {
          "output_type": "stream",
          "name": "stdout",
          "text": [
            "Text is Very Confusing to read\n"
          ]
        }
      ]
    },
    {
      "cell_type": "code",
      "source": [
        "Average_Number_of_Words_Per_Sentence=no_words/no_sentences\n",
        "print(\"Average Number of Words Per Sentence =\",Average_Number_of_Words_Per_Sentence)"
      ],
      "metadata": {
        "colab": {
          "base_uri": "https://localhost:8080/"
        },
        "id": "geq9RuZhwO2s",
        "outputId": "5e3dd2c6-08a9-44b5-be9f-b13df042cc9f"
      },
      "execution_count": 28,
      "outputs": [
        {
          "output_type": "stream",
          "name": "stdout",
          "text": [
            "Average Number of Words Per Sentence = 6.833333333333333\n"
          ]
        }
      ]
    },
    {
      "cell_type": "code",
      "source": [
        "no_punc_string = re.sub(r'[?,.!]','', d)\n",
        "word_count = len(no_punc_string.split())\n",
        "print(\"word count=\",word_count)"
      ],
      "metadata": {
        "colab": {
          "base_uri": "https://localhost:8080/"
        },
        "id": "P36zvmxkw1Le",
        "outputId": "d503a19a-193a-45d1-a555-c8686c3d6d48"
      },
      "execution_count": 29,
      "outputs": [
        {
          "output_type": "stream",
          "name": "stdout",
          "text": [
            "word count= 41\n"
          ]
        }
      ]
    },
    {
      "cell_type": "code",
      "source": [
        "print(\"total number of syllables =\" ,textstat.syllable_count(d))"
      ],
      "metadata": {
        "colab": {
          "base_uri": "https://localhost:8080/"
        },
        "id": "gugj6ffVxOcP",
        "outputId": "c9a21136-c5be-4559-db23-7933cac4eb84"
      },
      "execution_count": 31,
      "outputs": [
        {
          "output_type": "stream",
          "name": "stdout",
          "text": [
            "total numbe rof syllables = 71\n"
          ]
        }
      ]
    },
    {
      "cell_type": "code",
      "source": [
        "res = d.split()\n",
        "c=0"
      ],
      "metadata": {
        "id": "i363DoaWyGgV"
      },
      "execution_count": 32,
      "outputs": []
    },
    {
      "cell_type": "code",
      "source": [
        "def syllable_count(word):\n",
        "    word = word.lower()\n",
        "    count = 0\n",
        "    \n",
        "    vowels = \"aeiouy\"\n",
        "    if word[0] in vowels:\n",
        "        count += 1\n",
        "    for index in range(1, len(word)):\n",
        "        if word[index] in vowels and word[index - 1] not in vowels:\n",
        "            count += 1\n",
        "    if word.endswith(\"es\"):\n",
        "        count -= 1\n",
        "    elif word.endswith(\"ed\"):\n",
        "        count -=1\n",
        "    if count == 0:\n",
        "        count += 1\n",
        "    return count\n",
        "\n",
        "for i in range(len(res)):\n",
        "  c +=syllable_count(res[i])\n",
        "print(\"total number of syllables =\",c)\n"
      ],
      "metadata": {
        "colab": {
          "base_uri": "https://localhost:8080/"
        },
        "id": "homu-ww3zocn",
        "outputId": "ef69f315-8692-49dc-c5d8-fbeaea983fff"
      },
      "execution_count": 35,
      "outputs": [
        {
          "output_type": "stream",
          "name": "stdout",
          "text": [
            "total number of syllables = 170\n"
          ]
        }
      ]
    },
    {
      "cell_type": "code",
      "source": [
        "length=len(d)\n",
        "Average_Word_Length=length/no_words\n",
        "print(\"Average word length of text=\",Average_Word_Length)"
      ],
      "metadata": {
        "id": "PJDu6C0r1o8S",
        "colab": {
          "base_uri": "https://localhost:8080/"
        },
        "outputId": "f66c7d02-e791-4923-cd57-51d4786d066b"
      },
      "execution_count": 36,
      "outputs": [
        {
          "output_type": "stream",
          "name": "stdout",
          "text": [
            "Average word length of text= 7.414634146341464\n"
          ]
        }
      ]
    }
  ]
}